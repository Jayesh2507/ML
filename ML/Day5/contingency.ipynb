{
 "cells": [
  {
   "cell_type": "code",
   "execution_count": 2,
   "id": "e0678ea0",
   "metadata": {},
   "outputs": [],
   "source": [
    "from scipy.stats import chi2_contingency"
   ]
  },
  {
   "cell_type": "code",
   "execution_count": 5,
   "id": "98fa4907",
   "metadata": {},
   "outputs": [
    {
     "name": "stdout",
     "output_type": "stream",
     "text": [
      "p cvalue is 0.1031971404730939\n",
      "accept H0\n",
      "2\n"
     ]
    }
   ],
   "source": [
    "data = [[207,282,241],[234,242,232]]\n",
    "stat,p,dof,excepted = chi2_contingency(data)\n",
    "\n",
    "# p -> probability for the null hypothesis is true\n",
    "                                                                                       \n",
    "sig_val = .05\n",
    "print(\"p cvalue is \" + str(p))\n",
    "if p<=sig_val:\n",
    "    print(\"reject H0\")\n",
    "else:\n",
    "    print(\"accept H0\")\n",
    "print(dof)"
   ]
  },
  {
   "cell_type": "code",
   "execution_count": null,
   "id": "8deccdea",
   "metadata": {},
   "outputs": [],
   "source": []
  }
 ],
 "metadata": {
  "kernelspec": {
   "display_name": "Python 3 (ipykernel)",
   "language": "python",
   "name": "python3"
  },
  "language_info": {
   "codemirror_mode": {
    "name": "ipython",
    "version": 3
   },
   "file_extension": ".py",
   "mimetype": "text/x-python",
   "name": "python",
   "nbconvert_exporter": "python",
   "pygments_lexer": "ipython3",
   "version": "3.9.7"
  }
 },
 "nbformat": 4,
 "nbformat_minor": 5
}
